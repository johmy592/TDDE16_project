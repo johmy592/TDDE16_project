{
 "cells": [
  {
   "cell_type": "code",
   "execution_count": 33,
   "metadata": {},
   "outputs": [],
   "source": [
    "import string\n",
    "\n",
    "text_file = \"/home/johmy592/TDDE16_project/data/wiki_data/car_wiki.txt\"\n",
    "rnn_preds = \"/home/johmy592/TDDE16_project/predictions/predictions.txt\"\n",
    "base_preds = \"/home/johmy592/TDDE16_project/predictions/base_predictions.txt\"\n"
   ]
  },
  {
   "cell_type": "code",
   "execution_count": 34,
   "metadata": {},
   "outputs": [],
   "source": [
    "\n",
    "def compare_preds(text_file, preds1, preds2):\n",
    "    tf = open(text_file,'r')\n",
    "    p1 = open(preds1,'r')\n",
    "    p2 = open(preds2,'r')\n",
    "    \n",
    "    \n",
    "    p1_list = [line.split('\\t') for line in p1]\n",
    "    p2_list = [line.split('\\t') for line in p2]\n",
    "    t_list = [line.split('\\t') for line in tf]\n",
    "    \n",
    "    assert len(p1_list) == len(p2_list), \"suspicious predictions\"\n",
    "    \n",
    "    aggregate_list = []\n",
    "    for i in range(len(p1_list)):\n",
    "        (sid, pred1, pred2) = int(p1_list[i][0]), p1_list[i][1], p2_list[i][1]\n",
    "        aggregate_list.append((sid,pred1,pred2))\n",
    "    \n",
    "    for i,pred1,pred2 in aggregate_list:\n",
    "        if(pred1 == \"Other\\n\" or pred2 == \"Other\\n\"):\n",
    "            continue\n",
    "        print(t_list[i][1],'\\n\\n')\n",
    "        print(str(i),'\\t',pred1,'\\t', pred2)\n",
    "        print('####################################')\n",
    "    \n",
    "    tf.close()\n",
    "    p1.close()\n",
    "    p2.close()\n"
   ]
  },
  {
   "cell_type": "code",
   "execution_count": 35,
   "metadata": {},
   "outputs": [
    {
     "name": "stdout",
     "output_type": "stream",
     "text": [
      "\" <e1>Road traffic</e1> accidents are the largest cause of <e2>injury</e2> - related deaths worldwide.\"\n",
      " \n",
      "\n",
      "\n",
      "18 \t Cause-Effect(e1,e2)\n",
      " \t Cause-Effect(e1,e2)\n",
      "\n",
      "####################################\n",
      "\"The first motor car in central <e1>Europe</e1> and one of the first factory - made cars in the world, was produced by <e2>Czech</e2> company Nesselsdorfer Wagenbau ( later renamed to Tatra ) in 1897, the Pr\\u00e4sident automobil.\"\n",
      " \n",
      "\n",
      "\n",
      "63 \t Product-Producer(e1,e2)\n",
      " \t Product-Producer(e1,e2)\n",
      "\n",
      "####################################\n",
      "\"The first production vehicles in <e1>Great Britain</e1> came from <e2>the Daimler Company</e2>, a company founded by Harry J.\"\n",
      " \n",
      "\n",
      "\n",
      "93 \t Entity-Origin(e1,e2)\n",
      " \t Cause-Effect(e2,e1)\n",
      "\n",
      "####################################\n",
      "\"Sloan who established the idea of different <e1>makes</e1> of cars produced by one company, called the General Motors Companion Make Program, so that buyers could \\\"move up\\ \" as their <e2>fortunes</e2> improved.\"\n",
      " \n",
      "\n",
      "\n",
      "119 \t Product-Producer(e1,e2)\n",
      " \t Product-Producer(e2,e1)\n",
      "\n",
      "####################################\n",
      "\"n\\n\\n== <e1>Safety</e1> = = \\n\\nRoad traffic accidents are the largest cause of <e2>injury</e2> - related deaths worldwide.\"\n",
      " \n",
      "\n",
      "\n",
      "172 \t Cause-Effect(e1,e2)\n",
      " \t Cause-Effect(e1,e2)\n",
      "\n",
      "####################################\n"
     ]
    }
   ],
   "source": [
    "compare_preds(text_file, base_preds, rnn_preds)"
   ]
  },
  {
   "cell_type": "code",
   "execution_count": null,
   "metadata": {},
   "outputs": [],
   "source": []
  }
 ],
 "metadata": {
  "kernelspec": {
   "display_name": "Python 3",
   "language": "python",
   "name": "python3"
  },
  "language_info": {
   "codemirror_mode": {
    "name": "ipython",
    "version": 3
   },
   "file_extension": ".py",
   "mimetype": "text/x-python",
   "name": "python",
   "nbconvert_exporter": "python",
   "pygments_lexer": "ipython3",
   "version": "3.4.3"
  }
 },
 "nbformat": 4,
 "nbformat_minor": 2
}
