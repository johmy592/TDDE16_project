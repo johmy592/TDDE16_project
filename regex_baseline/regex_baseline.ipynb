{
 "cells": [
  {
   "cell_type": "code",
   "execution_count": 1,
   "metadata": {},
   "outputs": [],
   "source": [
    "import re\n",
    "import spacy\n",
    "import string"
   ]
  },
  {
   "cell_type": "code",
   "execution_count": 2,
   "metadata": {},
   "outputs": [],
   "source": [
    "nlp = spacy.load('en')"
   ]
  },
  {
   "cell_type": "code",
   "execution_count": 5,
   "metadata": {},
   "outputs": [],
   "source": [
    "#(1) Cause-Effect\n",
    "#(2) Instrument-Agency\n",
    "#(3) Product-Producer\n",
    "#(4) Content-Container\n",
    "#(5) Entity-Origin\n",
    "#(6) Entity-Destination\n",
    "#(7) Component-Whole\n",
    "#(8) Member-Collection\n",
    "#(9) Message-Topic\n",
    "\n",
    "data_file = \"/home/johmy592/TDDE16_project/data/SemEval2010_task8_all_data/SemEval2010_task8_testing/TEST_FILE.txt\"\n",
    "train_file = \"/home/johmy592/TDDE16_project/data/SemEval2010_task8_all_data/SemEval2010_task8_training/TRAIN_FILE.TXT\"\n",
    "car_wiki = \"car_wiki.txt\"\n",
    "\n",
    "prediction_file = \"predictions.txt\"\n",
    "\n",
    "# Regular expressions ######################################\n",
    "content_container = r'.*\\b(found in)\\b'\n",
    "component_whole = r'.*\\b((part|component) of)\\b'\n",
    "\n",
    "\n",
    "cc_regex = re.compile(content_container)\n",
    "cw_regex = re.compile(component_whole)\n",
    "############################################################\n",
    "\n",
    "def extract_rels(file_path):\n",
    "    fp = open(file_path, 'r')\n",
    "    preds = open(prediction_file,'w')\n",
    "    \n",
    "    for line in fp:\n",
    "        sent_id = re.search('^([0-9]+)',line)\n",
    "        relevant_part = re.search('<e1>.*</e1>(.*)<e2>', line)\n",
    "        if(not sent_id):\n",
    "            continue\n",
    "            \n",
    "        if(cc_regex.match(relevant_part.group(1))):\n",
    "            id_num = sent_id.group(1)\n",
    "            preds.write(str(id_num)+'\\t'+'Content-Container(e1,e2)\\n')\n",
    "            print(relevant_part.group(1))\n",
    "        elif(cw_regex.match(relevant_part.group(1))):\n",
    "            id_num = sent_id.group(1)\n",
    "            preds.write(str(id_num)+'\\t'+'Component-Whole(e1,e2)\\n')\n",
    "            print(relevant_part.group(1))\n",
    "    "
   ]
  },
  {
   "cell_type": "code",
   "execution_count": 6,
   "metadata": {},
   "outputs": [
    {
     "name": "stdout",
     "output_type": "stream",
     "text": [
      " of steam - powered road vehicles were used during the first part of the 19th century, including steam cars, \n"
     ]
    }
   ],
   "source": [
    "extract_rels(car_wiki)"
   ]
  },
  {
   "cell_type": "code",
   "execution_count": 19,
   "metadata": {},
   "outputs": [
    {
     "data": {
      "text/plain": [
       "'\\nFor entity extraction later\\n'"
      ]
     },
     "execution_count": 19,
     "metadata": {},
     "output_type": "execute_result"
    }
   ],
   "source": [
    "\"\"\"\n",
    "For entity extraction later\n",
    "\"\"\"\n",
    "#fp = open(data_file, 'r')\n",
    "#for i, doc in enumerate(nlp.pipe(fp)):\n",
    "#    \n",
    "#    for ent in doc.ents:\n",
    "#        print(\"{}\\t{}\\t{}\\t{}\".format(ent.text, ent.start, ent.end, ent.label_))"
   ]
  },
  {
   "cell_type": "code",
   "execution_count": null,
   "metadata": {},
   "outputs": [],
   "source": []
  }
 ],
 "metadata": {
  "kernelspec": {
   "display_name": "Python 3",
   "language": "python",
   "name": "python3"
  },
  "language_info": {
   "codemirror_mode": {
    "name": "ipython",
    "version": 3
   },
   "file_extension": ".py",
   "mimetype": "text/x-python",
   "name": "python",
   "nbconvert_exporter": "python",
   "pygments_lexer": "ipython3",
   "version": "3.4.3"
  }
 },
 "nbformat": 4,
 "nbformat_minor": 2
}
