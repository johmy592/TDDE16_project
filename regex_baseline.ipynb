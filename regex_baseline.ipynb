{
 "cells": [
  {
   "cell_type": "code",
   "execution_count": 46,
   "metadata": {},
   "outputs": [],
   "source": [
    "import re\n",
    "import spacy\n",
    "import string"
   ]
  },
  {
   "cell_type": "code",
   "execution_count": 12,
   "metadata": {},
   "outputs": [],
   "source": [
    "nlp = spacy.load('en')"
   ]
  },
  {
   "cell_type": "code",
   "execution_count": 93,
   "metadata": {},
   "outputs": [],
   "source": [
    "\n",
    "\n",
    "data_file = \"/home/johmy592/TDDE16_project/data/SemEval2010_task8_all_data/SemEval2010_task8_testing/TEST_FILE.txt\"\n",
    "train_file = \"/home/johmy592/TDDE16_project/data/SemEval2010_task8_all_data/SemEval2010_task8_training/TRAIN_FILE.TXT\"\n",
    "\n",
    "prediction_file = \"predictions.txt\"\n",
    "\n",
    "def extract_rels(file_path):\n",
    "    fp = open(file_path, 'r')\n",
    "    preds = open(prediction_file,'w')\n",
    "    component_whole = r'.*\\b((part|component) of|found in)\\b'\n",
    "    regex = re.compile(component_whole)\n",
    "    for line in fp:\n",
    "        sent_id = re.search('^([0-9]+)',line)\n",
    "        relevant_part = re.search('<e1>.*</e1>(.*)<e2>', line)\n",
    "        if(sent_id and regex.match(relevant_part.group(1))):\n",
    "            id_num = sent_id.group(1)\n",
    "            preds.write(str(id_num)+'\\t'+'Component-Whole(e1,e2)\\n')\n",
    "            print(relevant_part.group(1))\n",
    "        \n",
    "    "
   ]
  },
  {
   "cell_type": "code",
   "execution_count": 94,
   "metadata": {},
   "outputs": [
    {
     "name": "stdout",
     "output_type": "stream",
     "text": [
      " is an integral part of our \n",
      " was found in a live \n",
      " is part of the general \n",
      " was found in a \n",
      " was found in a \n",
      " was found in a shopping \n",
      " was a part of the \n",
      " was found in a \n",
      " is part of our daily \n",
      " also is part of a larger \n",
      " was found in a \n",
      " affecting the medial part of the premotor cortex, the SMA and sparing the precentral gyrus caused a contralateral \n",
      " is the best part of the \n",
      " is part of the \n",
      " is part of the school \n",
      " in three service stations in Finland that are part of Teboil's \n",
      " was truly the best part of the \n",
      " is the largest part of the \n",
      " was the best part of this year's new breakfast \n",
      " is part of the Palestinian journalist's daily \n",
      " were found in a \n",
      " feel part of the \n",
      " is part of Newsquest's audited local newspaper \n",
      " was found in a \n"
     ]
    }
   ],
   "source": [
    "extract_rels(data_file)"
   ]
  },
  {
   "cell_type": "code",
   "execution_count": 19,
   "metadata": {},
   "outputs": [
    {
     "data": {
      "text/plain": [
       "'\\nFor entity extraction later\\n'"
      ]
     },
     "execution_count": 19,
     "metadata": {},
     "output_type": "execute_result"
    }
   ],
   "source": [
    "\"\"\"\n",
    "For entity extraction later\n",
    "\"\"\"\n",
    "#fp = open(data_file, 'r')\n",
    "#for i, doc in enumerate(nlp.pipe(fp)):\n",
    "#    \n",
    "#    for ent in doc.ents:\n",
    "#        print(\"{}\\t{}\\t{}\\t{}\".format(ent.text, ent.start, ent.end, ent.label_))"
   ]
  },
  {
   "cell_type": "code",
   "execution_count": null,
   "metadata": {},
   "outputs": [],
   "source": []
  }
 ],
 "metadata": {
  "kernelspec": {
   "display_name": "Python 3",
   "language": "python",
   "name": "python3"
  },
  "language_info": {
   "codemirror_mode": {
    "name": "ipython",
    "version": 3
   },
   "file_extension": ".py",
   "mimetype": "text/x-python",
   "name": "python",
   "nbconvert_exporter": "python",
   "pygments_lexer": "ipython3",
   "version": "3.4.3"
  }
 },
 "nbformat": 4,
 "nbformat_minor": 2
}
