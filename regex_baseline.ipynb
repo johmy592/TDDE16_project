{
 "cells": [
  {
   "cell_type": "code",
   "execution_count": 1,
   "metadata": {},
   "outputs": [],
   "source": [
    "import re\n",
    "import spacy\n",
    "import string"
   ]
  },
  {
   "cell_type": "code",
   "execution_count": 2,
   "metadata": {},
   "outputs": [],
   "source": [
    "nlp = spacy.load('en')"
   ]
  },
  {
   "cell_type": "code",
   "execution_count": 7,
   "metadata": {},
   "outputs": [],
   "source": [
    "#(1) Cause-Effect\n",
    "#(2) Instrument-Agency\n",
    "#(3) Product-Producer\n",
    "#(4) Content-Container\n",
    "#(5) Entity-Origin\n",
    "#(6) Entity-Destination\n",
    "#(7) Component-Whole\n",
    "#(8) Member-Collection\n",
    "#(9) Message-Topic\n",
    "\n",
    "data_file = \"/home/johmy592/TDDE16_project/data/SemEval2010_task8_all_data/SemEval2010_task8_testing/TEST_FILE.txt\"\n",
    "train_file = \"/home/johmy592/TDDE16_project/data/SemEval2010_task8_all_data/SemEval2010_task8_training/TRAIN_FILE.TXT\"\n",
    "\n",
    "prediction_file = \"predictions.txt\"\n",
    "\n",
    "# Regular expressions ######################################\n",
    "content_container = r'.*\\b(found in)\\b'\n",
    "component_whole = r'.*\\b((part|component) of)\\b'\n",
    "\n",
    "\n",
    "cc_regex = re.compile(content_container)\n",
    "cw_regex = re.compile(component_whole)\n",
    "############################################################\n",
    "\n",
    "def extract_rels(file_path):\n",
    "    fp = open(file_path, 'r')\n",
    "    preds = open(prediction_file,'w')\n",
    "    \n",
    "    for line in fp:\n",
    "        sent_id = re.search('^([0-9]+)',line)\n",
    "        relevant_part = re.search('<e1>.*</e1>(.*)<e2>', line)\n",
    "        if(not sent_id):\n",
    "            continue\n",
    "            \n",
    "        if(cc_regex.match(relevant_part.group(1))):\n",
    "            id_num = sent_id.group(1)\n",
    "            preds.write(str(id_num)+'\\t'+'Content-Container(e1,e2)\\n')\n",
    "            print(relevant_part.group(1))\n",
    "        elif(cw_regex.match(relevant_part.group(1))):\n",
    "            id_num = sent_id.group(1)\n",
    "            preds.write(str(id_num)+'\\t'+'Component-Whole(e1,e2)\\n')\n",
    "            print(relevant_part.group(1))\n",
    "    "
   ]
  },
  {
   "cell_type": "code",
   "execution_count": 8,
   "metadata": {},
   "outputs": [
    {
     "name": "stdout",
     "output_type": "stream",
     "text": [
      " in the distal part of the stomach caused by Helicobacter pylori \n",
      " has been found in a beef \n",
      " was put inside the upper part of the rock \n",
      " lost in the ocean was found in a cod \n",
      " was found in a \n",
      " of a 10-year-old school boy, a resident of Jaylal Munshi Ka Rasta in Nahargarh area, was found in a \n",
      " was a part of the Romulan mining \n",
      " is part of the WHO information \n",
      ", which has over 5000 members, is part of a national \n",
      " was the best part of the \n",
      " is found in the second \n",
      " is a relatively small constitute part of the Earth's \n",
      " was a part of the Danish \n",
      " found in a \n",
      " feels part of their \n",
      " who is part of a select \n",
      " is a part of the Hertzsprung -Russell (H-R) \n",
      " are the most important part of an \n",
      " is part of the \n",
      " was the best part of this \n",
      " were found in the \n",
      " was found in a \n",
      " was only part of the life of a \n",
      " was a part of the \n",
      " that is an integral part of the Antikythera \n",
      " was found in a gift \n",
      " was the best part of this \n",
      " of Charles Darwin's seminal \"The Origin of Species\", which was found in a family's \n",
      " was the best part of this \n",
      " are already found in the apostolic \n",
      " was found in a \n",
      " escaped from an older part of the \n",
      " was an intrinsic part of \n",
      " is the middle part of the \n",
      " was the best part of the \n",
      " is a part of the \n",
      " was the best part of the \n",
      " involving the medial part of the premotor cortex, the supplementary motor area (SMA) and the rear portion of the medial part of the precentral gyrus caused a contralateral, severe leg-predominant \n",
      " of bacon was found in a returned \n",
      " is part of the environmental \n",
      " is important as part of the body's \n",
      " restricted to the rear portion of the medial part of the precentral gyrus caused a contralateral predominantly distal \n",
      " is part of the association \n",
      " are part of Toyota's supplier \n",
      " was the best part of this \n",
      " is part of a shoes \n",
      " is a part of the \n",
      " is part of the Virtual Geography department \n",
      " is part of the study \n",
      " was found in a Christmas \n",
      " and appendix are part of the \n",
      " was a part of the everyday \n",
      " is part of a very sad \n",
      ", is part of a new \n",
      ", found in the roots of the plant, builds \n",
      " was found in a \n",
      " is part of the master of veterinary public health (MVPH) \n",
      " spoken in the South Karelian Region of Finland is part of the South Eastern dialects of the Finnish \n",
      " is part of the European e-Inclusion \n",
      " is a part of homeowner's \n"
     ]
    }
   ],
   "source": [
    "extract_rels(train_file)"
   ]
  },
  {
   "cell_type": "code",
   "execution_count": 19,
   "metadata": {},
   "outputs": [
    {
     "data": {
      "text/plain": [
       "'\\nFor entity extraction later\\n'"
      ]
     },
     "execution_count": 19,
     "metadata": {},
     "output_type": "execute_result"
    }
   ],
   "source": [
    "\"\"\"\n",
    "For entity extraction later\n",
    "\"\"\"\n",
    "#fp = open(data_file, 'r')\n",
    "#for i, doc in enumerate(nlp.pipe(fp)):\n",
    "#    \n",
    "#    for ent in doc.ents:\n",
    "#        print(\"{}\\t{}\\t{}\\t{}\".format(ent.text, ent.start, ent.end, ent.label_))"
   ]
  },
  {
   "cell_type": "code",
   "execution_count": null,
   "metadata": {},
   "outputs": [],
   "source": []
  }
 ],
 "metadata": {
  "kernelspec": {
   "display_name": "Python 3",
   "language": "python",
   "name": "python3"
  },
  "language_info": {
   "codemirror_mode": {
    "name": "ipython",
    "version": 3
   },
   "file_extension": ".py",
   "mimetype": "text/x-python",
   "name": "python",
   "nbconvert_exporter": "python",
   "pygments_lexer": "ipython3",
   "version": "3.4.3"
  }
 },
 "nbformat": 4,
 "nbformat_minor": 2
}
